{
  "nbformat": 4,
  "nbformat_minor": 0,
  "metadata": {
    "colab": {
      "provenance": [],
      "toc_visible": true,
      "authorship_tag": "ABX9TyOu1vfX7jvsMo9haxh8NAxh",
      "include_colab_link": true
    },
    "kernelspec": {
      "name": "python3",
      "display_name": "Python 3"
    },
    "language_info": {
      "name": "python"
    }
  },
  "cells": [
    {
      "cell_type": "markdown",
      "metadata": {
        "id": "view-in-github",
        "colab_type": "text"
      },
      "source": [
        "<a href=\"https://colab.research.google.com/github/yebyyy/English-Premier-League-2023-2024-Prediction/blob/main/Scraping.ipynb\" target=\"_parent\"><img src=\"https://colab.research.google.com/assets/colab-badge.svg\" alt=\"Open In Colab\"/></a>"
      ]
    },
    {
      "cell_type": "markdown",
      "source": [
        "### This code is for scraping the data for the current season of English Premier League"
      ],
      "metadata": {
        "id": "3XyxPJOu0Vco"
      }
    },
    {
      "cell_type": "code",
      "execution_count": 263,
      "metadata": {
        "id": "5g-pKx1IxYxl"
      },
      "outputs": [],
      "source": [
        "import requests"
      ]
    },
    {
      "cell_type": "code",
      "source": [
        "import time"
      ],
      "metadata": {
        "id": "YMVSVHK1ytxJ"
      },
      "execution_count": 264,
      "outputs": []
    },
    {
      "cell_type": "code",
      "source": [
        "import pandas as pd"
      ],
      "metadata": {
        "id": "dsTPQudoTijs"
      },
      "execution_count": 265,
      "outputs": []
    },
    {
      "cell_type": "code",
      "source": [
        "standings_url = \"https://fbref.com/en/comps/9/Premier-League-Stats\""
      ],
      "metadata": {
        "id": "gCP0sWE9xvie"
      },
      "execution_count": 266,
      "outputs": []
    },
    {
      "cell_type": "code",
      "source": [
        "data = requests.get(standings_url)"
      ],
      "metadata": {
        "id": "Uc79WNiD0Ud-"
      },
      "execution_count": 267,
      "outputs": []
    },
    {
      "cell_type": "code",
      "source": [
        "from bs4 import BeautifulSoup"
      ],
      "metadata": {
        "id": "tBy3RyFH0kV_"
      },
      "execution_count": 268,
      "outputs": []
    },
    {
      "cell_type": "code",
      "source": [
        "soup = BeautifulSoup(data.text)"
      ],
      "metadata": {
        "id": "kBcXkpggZIYi"
      },
      "execution_count": 269,
      "outputs": []
    },
    {
      "cell_type": "markdown",
      "source": [
        "#### Now we need give the soup object something to select.\n",
        "Since everything is inside the table html object, we need to select it and then get everything anchor tags for the clubs."
      ],
      "metadata": {
        "id": "3_fHm32bcxaF"
      }
    },
    {
      "cell_type": "code",
      "source": [
        "data"
      ],
      "metadata": {
        "colab": {
          "base_uri": "https://localhost:8080/"
        },
        "id": "-zdk_ug881tU",
        "outputId": "a03aa25c-56c7-4c82-ddef-9e9a2a2a27c8"
      },
      "execution_count": 270,
      "outputs": [
        {
          "output_type": "execute_result",
          "data": {
            "text/plain": [
              "<Response [200]>"
            ]
          },
          "metadata": {},
          "execution_count": 270
        }
      ]
    },
    {
      "cell_type": "code",
      "source": [
        "# selecting the table using css selector\n",
        "standings_table = soup.select('table.stats_table')[0] # .stats_table is the class name"
      ],
      "metadata": {
        "id": "W7sWu-ZgZYWA"
      },
      "execution_count": 271,
      "outputs": []
    },
    {
      "cell_type": "code",
      "source": [
        "# find all the <a>(the clubs) in the standings table\n",
        "links = standings_table.find_all(\"a\") # find_all only finds tags"
      ],
      "metadata": {
        "id": "wArQZpOmeIEC"
      },
      "execution_count": 272,
      "outputs": []
    },
    {
      "cell_type": "code",
      "source": [
        "# links should actually contain all the links\n",
        "links = [l.get(\"href\") for l in links]"
      ],
      "metadata": {
        "id": "a4jWBcsPe71y"
      },
      "execution_count": 273,
      "outputs": []
    },
    {
      "cell_type": "code",
      "source": [
        "# links should actually contain the links that have clubs\n",
        "links = [l for l in links if \"/squads/\" in l]\n",
        "links"
      ],
      "metadata": {
        "id": "uxUeaABMfSDv",
        "colab": {
          "base_uri": "https://localhost:8080/"
        },
        "outputId": "ac05a2b5-e438-4b40-bec7-7a56b8a2164a"
      },
      "execution_count": 274,
      "outputs": [
        {
          "output_type": "execute_result",
          "data": {
            "text/plain": [
              "['/en/squads/822bd0ba/Liverpool-Stats',\n",
              " '/en/squads/b8fd03ef/Manchester-City-Stats',\n",
              " '/en/squads/18bb7c10/Arsenal-Stats',\n",
              " '/en/squads/8602292d/Aston-Villa-Stats',\n",
              " '/en/squads/361ca564/Tottenham-Hotspur-Stats',\n",
              " '/en/squads/19538871/Manchester-United-Stats',\n",
              " '/en/squads/7c21e445/West-Ham-United-Stats',\n",
              " '/en/squads/b2b47a98/Newcastle-United-Stats',\n",
              " '/en/squads/d07537b9/Brighton-and-Hove-Albion-Stats',\n",
              " '/en/squads/8cec06e1/Wolverhampton-Wanderers-Stats',\n",
              " '/en/squads/cff3d9bb/Chelsea-Stats',\n",
              " '/en/squads/fd962109/Fulham-Stats',\n",
              " '/en/squads/4ba7cbea/Bournemouth-Stats',\n",
              " '/en/squads/47c64c55/Crystal-Palace-Stats',\n",
              " '/en/squads/cd051869/Brentford-Stats',\n",
              " '/en/squads/d3fd31cc/Everton-Stats',\n",
              " '/en/squads/e4a775cb/Nottingham-Forest-Stats',\n",
              " '/en/squads/e297cd13/Luton-Town-Stats',\n",
              " '/en/squads/943e8050/Burnley-Stats',\n",
              " '/en/squads/1df6b87e/Sheffield-United-Stats']"
            ]
          },
          "metadata": {},
          "execution_count": 274
        }
      ]
    },
    {
      "cell_type": "code",
      "source": [
        "# since the links only have the subdomain, we should include the first half of the url as well\n",
        "team_urls = [f\"https://fbref.com{l}\" for l in links]\n",
        "team_urls"
      ],
      "metadata": {
        "id": "hOXZxE32fnI-",
        "colab": {
          "base_uri": "https://localhost:8080/"
        },
        "outputId": "b00a2f15-22be-4a26-8809-b51ece563702"
      },
      "execution_count": 275,
      "outputs": [
        {
          "output_type": "execute_result",
          "data": {
            "text/plain": [
              "['https://fbref.com/en/squads/822bd0ba/Liverpool-Stats',\n",
              " 'https://fbref.com/en/squads/b8fd03ef/Manchester-City-Stats',\n",
              " 'https://fbref.com/en/squads/18bb7c10/Arsenal-Stats',\n",
              " 'https://fbref.com/en/squads/8602292d/Aston-Villa-Stats',\n",
              " 'https://fbref.com/en/squads/361ca564/Tottenham-Hotspur-Stats',\n",
              " 'https://fbref.com/en/squads/19538871/Manchester-United-Stats',\n",
              " 'https://fbref.com/en/squads/7c21e445/West-Ham-United-Stats',\n",
              " 'https://fbref.com/en/squads/b2b47a98/Newcastle-United-Stats',\n",
              " 'https://fbref.com/en/squads/d07537b9/Brighton-and-Hove-Albion-Stats',\n",
              " 'https://fbref.com/en/squads/8cec06e1/Wolverhampton-Wanderers-Stats',\n",
              " 'https://fbref.com/en/squads/cff3d9bb/Chelsea-Stats',\n",
              " 'https://fbref.com/en/squads/fd962109/Fulham-Stats',\n",
              " 'https://fbref.com/en/squads/4ba7cbea/Bournemouth-Stats',\n",
              " 'https://fbref.com/en/squads/47c64c55/Crystal-Palace-Stats',\n",
              " 'https://fbref.com/en/squads/cd051869/Brentford-Stats',\n",
              " 'https://fbref.com/en/squads/d3fd31cc/Everton-Stats',\n",
              " 'https://fbref.com/en/squads/e4a775cb/Nottingham-Forest-Stats',\n",
              " 'https://fbref.com/en/squads/e297cd13/Luton-Town-Stats',\n",
              " 'https://fbref.com/en/squads/943e8050/Burnley-Stats',\n",
              " 'https://fbref.com/en/squads/1df6b87e/Sheffield-United-Stats']"
            ]
          },
          "metadata": {},
          "execution_count": 275
        }
      ]
    },
    {
      "cell_type": "markdown",
      "source": [
        "#### Using Pandas and Requests to extract match stats: Using a single team as an example"
      ],
      "metadata": {
        "id": "e2Ku8_jogWO0"
      }
    },
    {
      "cell_type": "code",
      "source": [
        "team_url_first = team_urls[0]\n",
        "team_url_first"
      ],
      "metadata": {
        "id": "5FlvXaWVgc9t",
        "colab": {
          "base_uri": "https://localhost:8080/",
          "height": 35
        },
        "outputId": "6482795b-d5a2-4907-d985-6360bbb09cd6"
      },
      "execution_count": 276,
      "outputs": [
        {
          "output_type": "execute_result",
          "data": {
            "text/plain": [
              "'https://fbref.com/en/squads/822bd0ba/Liverpool-Stats'"
            ],
            "application/vnd.google.colaboratory.intrinsic+json": {
              "type": "string"
            }
          },
          "metadata": {},
          "execution_count": 276
        }
      ]
    },
    {
      "cell_type": "code",
      "source": [
        "first_team_data = requests.get(team_url_first)"
      ],
      "metadata": {
        "id": "VceJh5T_TQ64"
      },
      "execution_count": 277,
      "outputs": []
    },
    {
      "cell_type": "markdown",
      "source": [
        "Now we use pandas for the parsing and read only the table called scores and fixtures since we only care about the data there"
      ],
      "metadata": {
        "id": "GvYKJOI5UnD2"
      }
    },
    {
      "cell_type": "code",
      "source": [
        "matches_first_team = pd.read_html(first_team_data.text, match=\"Scores & Fixtures\")"
      ],
      "metadata": {
        "id": "7isBH2ovULtY"
      },
      "execution_count": 278,
      "outputs": []
    },
    {
      "cell_type": "markdown",
      "source": [
        "Since this is a list, we want a pandas dataFrame, therefore we get the first element from this list"
      ],
      "metadata": {
        "id": "p6rGw0rzXwlf"
      }
    },
    {
      "cell_type": "code",
      "source": [
        "matches_first_team = matches_first_team[0]"
      ],
      "metadata": {
        "id": "I1BfBGOEUaSt"
      },
      "execution_count": 279,
      "outputs": []
    },
    {
      "cell_type": "markdown",
      "source": [
        "#### Now we also care about the shooting data, so we continue using the same team for the example"
      ],
      "metadata": {
        "id": "Ep2Ub8dZYWAT"
      }
    },
    {
      "cell_type": "markdown",
      "source": [
        "Since the shooting page is now just a URL in an anchor in the webpage of the club page we were working on, we find all the links and keep the one that has shooting in it"
      ],
      "metadata": {
        "id": "PXS-eCB1ZKuV"
      }
    },
    {
      "cell_type": "code",
      "source": [
        "soup_for_first_team = BeautifulSoup(first_team_data.text)"
      ],
      "metadata": {
        "id": "7kT94OH_X494"
      },
      "execution_count": 280,
      "outputs": []
    },
    {
      "cell_type": "code",
      "source": [
        "link_for_first_team = soup_for_first_team.find_all(\"a\")"
      ],
      "metadata": {
        "id": "dMejgUnpZqi3"
      },
      "execution_count": 281,
      "outputs": []
    },
    {
      "cell_type": "code",
      "source": [
        "link_for_first_team = [l.get(\"href\") for l in link_for_first_team]"
      ],
      "metadata": {
        "id": "69kr8Y5RYBe_"
      },
      "execution_count": 282,
      "outputs": []
    },
    {
      "cell_type": "code",
      "source": [
        "link_for_first_team = [l for l in link_for_first_team if l and \"all_comps/shooting/\" in l]\n",
        "link_for_first_team"
      ],
      "metadata": {
        "id": "MbXKAwfVYLVd",
        "colab": {
          "base_uri": "https://localhost:8080/"
        },
        "outputId": "903fd004-bdf8-40b0-9057-d308c224269b"
      },
      "execution_count": 283,
      "outputs": [
        {
          "output_type": "execute_result",
          "data": {
            "text/plain": [
              "['/en/squads/822bd0ba/2023-2024/matchlogs/all_comps/shooting/Liverpool-Match-Logs-All-Competitions',\n",
              " '/en/squads/822bd0ba/2023-2024/matchlogs/all_comps/shooting/Liverpool-Match-Logs-All-Competitions',\n",
              " '/en/squads/822bd0ba/2023-2024/matchlogs/all_comps/shooting/Liverpool-Match-Logs-All-Competitions',\n",
              " '/en/squads/822bd0ba/2023-2024/matchlogs/all_comps/shooting/Liverpool-Match-Logs-All-Competitions']"
            ]
          },
          "metadata": {},
          "execution_count": 283
        }
      ]
    },
    {
      "cell_type": "code",
      "source": [
        "first_team_shooting_data = requests.get(f\"https://fbref.com{link_for_first_team[0]}\")"
      ],
      "metadata": {
        "id": "-bisl-QdYhKl"
      },
      "execution_count": 284,
      "outputs": []
    },
    {
      "cell_type": "code",
      "source": [
        "first_team_shooting_frame = pd.read_html(first_team_shooting_data.text, match='Shooting')\n",
        "first_team_shooting_frame = first_team_shooting_frame[0]"
      ],
      "metadata": {
        "id": "BPCONxniZ2Lj"
      },
      "execution_count": 285,
      "outputs": []
    },
    {
      "cell_type": "markdown",
      "source": [
        "#### Cleaning and merging data in pandas"
      ],
      "metadata": {
        "id": "fh4JzjOXlOaF"
      }
    },
    {
      "cell_type": "markdown",
      "source": [
        "We don't want the multilevel index, so just drop that"
      ],
      "metadata": {
        "id": "S5IR6EhPliHP"
      }
    },
    {
      "cell_type": "code",
      "source": [
        "first_team_shooting_frame.columns = first_team_shooting_frame.columns.droplevel()"
      ],
      "metadata": {
        "id": "yHsLyBj2Z6qt"
      },
      "execution_count": 286,
      "outputs": []
    },
    {
      "cell_type": "code",
      "source": [
        "first_team_shooting_frame.head()"
      ],
      "metadata": {
        "id": "zbXB5fVXoSAj",
        "colab": {
          "base_uri": "https://localhost:8080/",
          "height": 355
        },
        "outputId": "dc7579b5-00c6-41a4-d5bb-9881751c4f44"
      },
      "execution_count": 287,
      "outputs": [
        {
          "output_type": "execute_result",
          "data": {
            "text/plain": [
              "         Date   Time            Comp        Round  Day Venue Result   GF   GA  \\\n",
              "0  2023-08-13  16:30  Premier League  Matchweek 1  Sun  Away      D  1.0  1.0   \n",
              "1  2023-08-19  15:00  Premier League  Matchweek 2  Sat  Home      W  3.0  1.0   \n",
              "2  2023-08-27  16:30  Premier League  Matchweek 3  Sun  Away      W  2.0  1.0   \n",
              "3  2023-09-03  14:00  Premier League  Matchweek 4  Sun  Home      W  3.0  0.0   \n",
              "4  2023-09-16  12:30  Premier League  Matchweek 5  Sat  Away      W  3.0  1.0   \n",
              "\n",
              "        Opponent  ...  Dist   FK  PK  PKatt   xG  npxG  npxG/Sh  G-xG  \\\n",
              "0        Chelsea  ...  17.8  0.0   0      0  1.3   1.3     0.10  -0.3   \n",
              "1    Bournemouth  ...  16.8  1.0   0      1  3.0   2.1     0.09   0.0   \n",
              "2  Newcastle Utd  ...  17.2  1.0   0      0  0.9   0.9     0.10   1.1   \n",
              "3    Aston Villa  ...  14.7  0.0   0      0  2.5   2.5     0.15  -0.5   \n",
              "4         Wolves  ...  15.8  0.0   0      0  2.5   2.5     0.16  -0.5   \n",
              "\n",
              "   np:G-xG  Match Report  \n",
              "0     -0.3  Match Report  \n",
              "1      0.9  Match Report  \n",
              "2      1.1  Match Report  \n",
              "3     -0.5  Match Report  \n",
              "4     -0.5  Match Report  \n",
              "\n",
              "[5 rows x 26 columns]"
            ],
            "text/html": [
              "\n",
              "  <div id=\"df-9290afef-9b88-4c05-a20c-f37dd177ac13\" class=\"colab-df-container\">\n",
              "    <div>\n",
              "<style scoped>\n",
              "    .dataframe tbody tr th:only-of-type {\n",
              "        vertical-align: middle;\n",
              "    }\n",
              "\n",
              "    .dataframe tbody tr th {\n",
              "        vertical-align: top;\n",
              "    }\n",
              "\n",
              "    .dataframe thead th {\n",
              "        text-align: right;\n",
              "    }\n",
              "</style>\n",
              "<table border=\"1\" class=\"dataframe\">\n",
              "  <thead>\n",
              "    <tr style=\"text-align: right;\">\n",
              "      <th></th>\n",
              "      <th>Date</th>\n",
              "      <th>Time</th>\n",
              "      <th>Comp</th>\n",
              "      <th>Round</th>\n",
              "      <th>Day</th>\n",
              "      <th>Venue</th>\n",
              "      <th>Result</th>\n",
              "      <th>GF</th>\n",
              "      <th>GA</th>\n",
              "      <th>Opponent</th>\n",
              "      <th>...</th>\n",
              "      <th>Dist</th>\n",
              "      <th>FK</th>\n",
              "      <th>PK</th>\n",
              "      <th>PKatt</th>\n",
              "      <th>xG</th>\n",
              "      <th>npxG</th>\n",
              "      <th>npxG/Sh</th>\n",
              "      <th>G-xG</th>\n",
              "      <th>np:G-xG</th>\n",
              "      <th>Match Report</th>\n",
              "    </tr>\n",
              "  </thead>\n",
              "  <tbody>\n",
              "    <tr>\n",
              "      <th>0</th>\n",
              "      <td>2023-08-13</td>\n",
              "      <td>16:30</td>\n",
              "      <td>Premier League</td>\n",
              "      <td>Matchweek 1</td>\n",
              "      <td>Sun</td>\n",
              "      <td>Away</td>\n",
              "      <td>D</td>\n",
              "      <td>1.0</td>\n",
              "      <td>1.0</td>\n",
              "      <td>Chelsea</td>\n",
              "      <td>...</td>\n",
              "      <td>17.8</td>\n",
              "      <td>0.0</td>\n",
              "      <td>0</td>\n",
              "      <td>0</td>\n",
              "      <td>1.3</td>\n",
              "      <td>1.3</td>\n",
              "      <td>0.10</td>\n",
              "      <td>-0.3</td>\n",
              "      <td>-0.3</td>\n",
              "      <td>Match Report</td>\n",
              "    </tr>\n",
              "    <tr>\n",
              "      <th>1</th>\n",
              "      <td>2023-08-19</td>\n",
              "      <td>15:00</td>\n",
              "      <td>Premier League</td>\n",
              "      <td>Matchweek 2</td>\n",
              "      <td>Sat</td>\n",
              "      <td>Home</td>\n",
              "      <td>W</td>\n",
              "      <td>3.0</td>\n",
              "      <td>1.0</td>\n",
              "      <td>Bournemouth</td>\n",
              "      <td>...</td>\n",
              "      <td>16.8</td>\n",
              "      <td>1.0</td>\n",
              "      <td>0</td>\n",
              "      <td>1</td>\n",
              "      <td>3.0</td>\n",
              "      <td>2.1</td>\n",
              "      <td>0.09</td>\n",
              "      <td>0.0</td>\n",
              "      <td>0.9</td>\n",
              "      <td>Match Report</td>\n",
              "    </tr>\n",
              "    <tr>\n",
              "      <th>2</th>\n",
              "      <td>2023-08-27</td>\n",
              "      <td>16:30</td>\n",
              "      <td>Premier League</td>\n",
              "      <td>Matchweek 3</td>\n",
              "      <td>Sun</td>\n",
              "      <td>Away</td>\n",
              "      <td>W</td>\n",
              "      <td>2.0</td>\n",
              "      <td>1.0</td>\n",
              "      <td>Newcastle Utd</td>\n",
              "      <td>...</td>\n",
              "      <td>17.2</td>\n",
              "      <td>1.0</td>\n",
              "      <td>0</td>\n",
              "      <td>0</td>\n",
              "      <td>0.9</td>\n",
              "      <td>0.9</td>\n",
              "      <td>0.10</td>\n",
              "      <td>1.1</td>\n",
              "      <td>1.1</td>\n",
              "      <td>Match Report</td>\n",
              "    </tr>\n",
              "    <tr>\n",
              "      <th>3</th>\n",
              "      <td>2023-09-03</td>\n",
              "      <td>14:00</td>\n",
              "      <td>Premier League</td>\n",
              "      <td>Matchweek 4</td>\n",
              "      <td>Sun</td>\n",
              "      <td>Home</td>\n",
              "      <td>W</td>\n",
              "      <td>3.0</td>\n",
              "      <td>0.0</td>\n",
              "      <td>Aston Villa</td>\n",
              "      <td>...</td>\n",
              "      <td>14.7</td>\n",
              "      <td>0.0</td>\n",
              "      <td>0</td>\n",
              "      <td>0</td>\n",
              "      <td>2.5</td>\n",
              "      <td>2.5</td>\n",
              "      <td>0.15</td>\n",
              "      <td>-0.5</td>\n",
              "      <td>-0.5</td>\n",
              "      <td>Match Report</td>\n",
              "    </tr>\n",
              "    <tr>\n",
              "      <th>4</th>\n",
              "      <td>2023-09-16</td>\n",
              "      <td>12:30</td>\n",
              "      <td>Premier League</td>\n",
              "      <td>Matchweek 5</td>\n",
              "      <td>Sat</td>\n",
              "      <td>Away</td>\n",
              "      <td>W</td>\n",
              "      <td>3.0</td>\n",
              "      <td>1.0</td>\n",
              "      <td>Wolves</td>\n",
              "      <td>...</td>\n",
              "      <td>15.8</td>\n",
              "      <td>0.0</td>\n",
              "      <td>0</td>\n",
              "      <td>0</td>\n",
              "      <td>2.5</td>\n",
              "      <td>2.5</td>\n",
              "      <td>0.16</td>\n",
              "      <td>-0.5</td>\n",
              "      <td>-0.5</td>\n",
              "      <td>Match Report</td>\n",
              "    </tr>\n",
              "  </tbody>\n",
              "</table>\n",
              "<p>5 rows × 26 columns</p>\n",
              "</div>\n",
              "    <div class=\"colab-df-buttons\">\n",
              "\n",
              "  <div class=\"colab-df-container\">\n",
              "    <button class=\"colab-df-convert\" onclick=\"convertToInteractive('df-9290afef-9b88-4c05-a20c-f37dd177ac13')\"\n",
              "            title=\"Convert this dataframe to an interactive table.\"\n",
              "            style=\"display:none;\">\n",
              "\n",
              "  <svg xmlns=\"http://www.w3.org/2000/svg\" height=\"24px\" viewBox=\"0 -960 960 960\">\n",
              "    <path d=\"M120-120v-720h720v720H120Zm60-500h600v-160H180v160Zm220 220h160v-160H400v160Zm0 220h160v-160H400v160ZM180-400h160v-160H180v160Zm440 0h160v-160H620v160ZM180-180h160v-160H180v160Zm440 0h160v-160H620v160Z\"/>\n",
              "  </svg>\n",
              "    </button>\n",
              "\n",
              "  <style>\n",
              "    .colab-df-container {\n",
              "      display:flex;\n",
              "      gap: 12px;\n",
              "    }\n",
              "\n",
              "    .colab-df-convert {\n",
              "      background-color: #E8F0FE;\n",
              "      border: none;\n",
              "      border-radius: 50%;\n",
              "      cursor: pointer;\n",
              "      display: none;\n",
              "      fill: #1967D2;\n",
              "      height: 32px;\n",
              "      padding: 0 0 0 0;\n",
              "      width: 32px;\n",
              "    }\n",
              "\n",
              "    .colab-df-convert:hover {\n",
              "      background-color: #E2EBFA;\n",
              "      box-shadow: 0px 1px 2px rgba(60, 64, 67, 0.3), 0px 1px 3px 1px rgba(60, 64, 67, 0.15);\n",
              "      fill: #174EA6;\n",
              "    }\n",
              "\n",
              "    .colab-df-buttons div {\n",
              "      margin-bottom: 4px;\n",
              "    }\n",
              "\n",
              "    [theme=dark] .colab-df-convert {\n",
              "      background-color: #3B4455;\n",
              "      fill: #D2E3FC;\n",
              "    }\n",
              "\n",
              "    [theme=dark] .colab-df-convert:hover {\n",
              "      background-color: #434B5C;\n",
              "      box-shadow: 0px 1px 3px 1px rgba(0, 0, 0, 0.15);\n",
              "      filter: drop-shadow(0px 1px 2px rgba(0, 0, 0, 0.3));\n",
              "      fill: #FFFFFF;\n",
              "    }\n",
              "  </style>\n",
              "\n",
              "    <script>\n",
              "      const buttonEl =\n",
              "        document.querySelector('#df-9290afef-9b88-4c05-a20c-f37dd177ac13 button.colab-df-convert');\n",
              "      buttonEl.style.display =\n",
              "        google.colab.kernel.accessAllowed ? 'block' : 'none';\n",
              "\n",
              "      async function convertToInteractive(key) {\n",
              "        const element = document.querySelector('#df-9290afef-9b88-4c05-a20c-f37dd177ac13');\n",
              "        const dataTable =\n",
              "          await google.colab.kernel.invokeFunction('convertToInteractive',\n",
              "                                                    [key], {});\n",
              "        if (!dataTable) return;\n",
              "\n",
              "        const docLinkHtml = 'Like what you see? Visit the ' +\n",
              "          '<a target=\"_blank\" href=https://colab.research.google.com/notebooks/data_table.ipynb>data table notebook</a>'\n",
              "          + ' to learn more about interactive tables.';\n",
              "        element.innerHTML = '';\n",
              "        dataTable['output_type'] = 'display_data';\n",
              "        await google.colab.output.renderOutput(dataTable, element);\n",
              "        const docLink = document.createElement('div');\n",
              "        docLink.innerHTML = docLinkHtml;\n",
              "        element.appendChild(docLink);\n",
              "      }\n",
              "    </script>\n",
              "  </div>\n",
              "\n",
              "\n",
              "<div id=\"df-947a453b-e01c-44aa-9527-f13855f98ca9\">\n",
              "  <button class=\"colab-df-quickchart\" onclick=\"quickchart('df-947a453b-e01c-44aa-9527-f13855f98ca9')\"\n",
              "            title=\"Suggest charts\"\n",
              "            style=\"display:none;\">\n",
              "\n",
              "<svg xmlns=\"http://www.w3.org/2000/svg\" height=\"24px\"viewBox=\"0 0 24 24\"\n",
              "     width=\"24px\">\n",
              "    <g>\n",
              "        <path d=\"M19 3H5c-1.1 0-2 .9-2 2v14c0 1.1.9 2 2 2h14c1.1 0 2-.9 2-2V5c0-1.1-.9-2-2-2zM9 17H7v-7h2v7zm4 0h-2V7h2v10zm4 0h-2v-4h2v4z\"/>\n",
              "    </g>\n",
              "</svg>\n",
              "  </button>\n",
              "\n",
              "<style>\n",
              "  .colab-df-quickchart {\n",
              "      --bg-color: #E8F0FE;\n",
              "      --fill-color: #1967D2;\n",
              "      --hover-bg-color: #E2EBFA;\n",
              "      --hover-fill-color: #174EA6;\n",
              "      --disabled-fill-color: #AAA;\n",
              "      --disabled-bg-color: #DDD;\n",
              "  }\n",
              "\n",
              "  [theme=dark] .colab-df-quickchart {\n",
              "      --bg-color: #3B4455;\n",
              "      --fill-color: #D2E3FC;\n",
              "      --hover-bg-color: #434B5C;\n",
              "      --hover-fill-color: #FFFFFF;\n",
              "      --disabled-bg-color: #3B4455;\n",
              "      --disabled-fill-color: #666;\n",
              "  }\n",
              "\n",
              "  .colab-df-quickchart {\n",
              "    background-color: var(--bg-color);\n",
              "    border: none;\n",
              "    border-radius: 50%;\n",
              "    cursor: pointer;\n",
              "    display: none;\n",
              "    fill: var(--fill-color);\n",
              "    height: 32px;\n",
              "    padding: 0;\n",
              "    width: 32px;\n",
              "  }\n",
              "\n",
              "  .colab-df-quickchart:hover {\n",
              "    background-color: var(--hover-bg-color);\n",
              "    box-shadow: 0 1px 2px rgba(60, 64, 67, 0.3), 0 1px 3px 1px rgba(60, 64, 67, 0.15);\n",
              "    fill: var(--button-hover-fill-color);\n",
              "  }\n",
              "\n",
              "  .colab-df-quickchart-complete:disabled,\n",
              "  .colab-df-quickchart-complete:disabled:hover {\n",
              "    background-color: var(--disabled-bg-color);\n",
              "    fill: var(--disabled-fill-color);\n",
              "    box-shadow: none;\n",
              "  }\n",
              "\n",
              "  .colab-df-spinner {\n",
              "    border: 2px solid var(--fill-color);\n",
              "    border-color: transparent;\n",
              "    border-bottom-color: var(--fill-color);\n",
              "    animation:\n",
              "      spin 1s steps(1) infinite;\n",
              "  }\n",
              "\n",
              "  @keyframes spin {\n",
              "    0% {\n",
              "      border-color: transparent;\n",
              "      border-bottom-color: var(--fill-color);\n",
              "      border-left-color: var(--fill-color);\n",
              "    }\n",
              "    20% {\n",
              "      border-color: transparent;\n",
              "      border-left-color: var(--fill-color);\n",
              "      border-top-color: var(--fill-color);\n",
              "    }\n",
              "    30% {\n",
              "      border-color: transparent;\n",
              "      border-left-color: var(--fill-color);\n",
              "      border-top-color: var(--fill-color);\n",
              "      border-right-color: var(--fill-color);\n",
              "    }\n",
              "    40% {\n",
              "      border-color: transparent;\n",
              "      border-right-color: var(--fill-color);\n",
              "      border-top-color: var(--fill-color);\n",
              "    }\n",
              "    60% {\n",
              "      border-color: transparent;\n",
              "      border-right-color: var(--fill-color);\n",
              "    }\n",
              "    80% {\n",
              "      border-color: transparent;\n",
              "      border-right-color: var(--fill-color);\n",
              "      border-bottom-color: var(--fill-color);\n",
              "    }\n",
              "    90% {\n",
              "      border-color: transparent;\n",
              "      border-bottom-color: var(--fill-color);\n",
              "    }\n",
              "  }\n",
              "</style>\n",
              "\n",
              "  <script>\n",
              "    async function quickchart(key) {\n",
              "      const quickchartButtonEl =\n",
              "        document.querySelector('#' + key + ' button');\n",
              "      quickchartButtonEl.disabled = true;  // To prevent multiple clicks.\n",
              "      quickchartButtonEl.classList.add('colab-df-spinner');\n",
              "      try {\n",
              "        const charts = await google.colab.kernel.invokeFunction(\n",
              "            'suggestCharts', [key], {});\n",
              "      } catch (error) {\n",
              "        console.error('Error during call to suggestCharts:', error);\n",
              "      }\n",
              "      quickchartButtonEl.classList.remove('colab-df-spinner');\n",
              "      quickchartButtonEl.classList.add('colab-df-quickchart-complete');\n",
              "    }\n",
              "    (() => {\n",
              "      let quickchartButtonEl =\n",
              "        document.querySelector('#df-947a453b-e01c-44aa-9527-f13855f98ca9 button');\n",
              "      quickchartButtonEl.style.display =\n",
              "        google.colab.kernel.accessAllowed ? 'block' : 'none';\n",
              "    })();\n",
              "  </script>\n",
              "</div>\n",
              "\n",
              "    </div>\n",
              "  </div>\n"
            ],
            "application/vnd.google.colaboratory.intrinsic+json": {
              "type": "dataframe",
              "variable_name": "first_team_shooting_frame"
            }
          },
          "metadata": {},
          "execution_count": 287
        }
      ]
    },
    {
      "cell_type": "code",
      "source": [
        "first_team_frame = matches_first_team.merge(first_team_shooting_frame[[\"Date\", \"Sh\", \"SoT\", \"Dist\", \"FK\", \"PK\", \"PKatt\"]], on=\"Date\")\n",
        "first_team_frame.head()"
      ],
      "metadata": {
        "id": "WffYicYLmGQi",
        "colab": {
          "base_uri": "https://localhost:8080/",
          "height": 355
        },
        "outputId": "161d91ee-5bde-4920-e275-91ca754871e4"
      },
      "execution_count": 288,
      "outputs": [
        {
          "output_type": "execute_result",
          "data": {
            "text/plain": [
              "         Date   Time            Comp        Round  Day Venue Result   GF   GA  \\\n",
              "0  2023-08-13  16:30  Premier League  Matchweek 1  Sun  Away      D  1.0  1.0   \n",
              "1  2023-08-19  15:00  Premier League  Matchweek 2  Sat  Home      W  3.0  1.0   \n",
              "2  2023-08-27  16:30  Premier League  Matchweek 3  Sun  Away      W  2.0  1.0   \n",
              "3  2023-09-03  14:00  Premier League  Matchweek 4  Sun  Home      W  3.0  0.0   \n",
              "4  2023-09-16  12:30  Premier League  Matchweek 5  Sat  Away      W  3.0  1.0   \n",
              "\n",
              "        Opponent  ...  Formation         Referee  Match Report  Notes  Sh SoT  \\\n",
              "0        Chelsea  ...      4-3-3  Anthony Taylor  Match Report    NaN  13   1   \n",
              "1    Bournemouth  ...      4-3-3  Thomas Bramall  Match Report    NaN  25   9   \n",
              "2  Newcastle Utd  ...      4-3-3     John Brooks  Match Report    NaN   9   4   \n",
              "3    Aston Villa  ...      4-3-3    Simon Hooper  Match Report    NaN  17   4   \n",
              "4         Wolves  ...      4-3-3  Michael Oliver  Match Report    NaN  16   5   \n",
              "\n",
              "   Dist   FK PK  PKatt  \n",
              "0  17.8  0.0  0      0  \n",
              "1  16.8  1.0  0      1  \n",
              "2  17.2  1.0  0      0  \n",
              "3  14.7  0.0  0      0  \n",
              "4  15.8  0.0  0      0  \n",
              "\n",
              "[5 rows x 25 columns]"
            ],
            "text/html": [
              "\n",
              "  <div id=\"df-2bb4be6f-e168-4fb1-bb5a-549cb85be0d0\" class=\"colab-df-container\">\n",
              "    <div>\n",
              "<style scoped>\n",
              "    .dataframe tbody tr th:only-of-type {\n",
              "        vertical-align: middle;\n",
              "    }\n",
              "\n",
              "    .dataframe tbody tr th {\n",
              "        vertical-align: top;\n",
              "    }\n",
              "\n",
              "    .dataframe thead th {\n",
              "        text-align: right;\n",
              "    }\n",
              "</style>\n",
              "<table border=\"1\" class=\"dataframe\">\n",
              "  <thead>\n",
              "    <tr style=\"text-align: right;\">\n",
              "      <th></th>\n",
              "      <th>Date</th>\n",
              "      <th>Time</th>\n",
              "      <th>Comp</th>\n",
              "      <th>Round</th>\n",
              "      <th>Day</th>\n",
              "      <th>Venue</th>\n",
              "      <th>Result</th>\n",
              "      <th>GF</th>\n",
              "      <th>GA</th>\n",
              "      <th>Opponent</th>\n",
              "      <th>...</th>\n",
              "      <th>Formation</th>\n",
              "      <th>Referee</th>\n",
              "      <th>Match Report</th>\n",
              "      <th>Notes</th>\n",
              "      <th>Sh</th>\n",
              "      <th>SoT</th>\n",
              "      <th>Dist</th>\n",
              "      <th>FK</th>\n",
              "      <th>PK</th>\n",
              "      <th>PKatt</th>\n",
              "    </tr>\n",
              "  </thead>\n",
              "  <tbody>\n",
              "    <tr>\n",
              "      <th>0</th>\n",
              "      <td>2023-08-13</td>\n",
              "      <td>16:30</td>\n",
              "      <td>Premier League</td>\n",
              "      <td>Matchweek 1</td>\n",
              "      <td>Sun</td>\n",
              "      <td>Away</td>\n",
              "      <td>D</td>\n",
              "      <td>1.0</td>\n",
              "      <td>1.0</td>\n",
              "      <td>Chelsea</td>\n",
              "      <td>...</td>\n",
              "      <td>4-3-3</td>\n",
              "      <td>Anthony Taylor</td>\n",
              "      <td>Match Report</td>\n",
              "      <td>NaN</td>\n",
              "      <td>13</td>\n",
              "      <td>1</td>\n",
              "      <td>17.8</td>\n",
              "      <td>0.0</td>\n",
              "      <td>0</td>\n",
              "      <td>0</td>\n",
              "    </tr>\n",
              "    <tr>\n",
              "      <th>1</th>\n",
              "      <td>2023-08-19</td>\n",
              "      <td>15:00</td>\n",
              "      <td>Premier League</td>\n",
              "      <td>Matchweek 2</td>\n",
              "      <td>Sat</td>\n",
              "      <td>Home</td>\n",
              "      <td>W</td>\n",
              "      <td>3.0</td>\n",
              "      <td>1.0</td>\n",
              "      <td>Bournemouth</td>\n",
              "      <td>...</td>\n",
              "      <td>4-3-3</td>\n",
              "      <td>Thomas Bramall</td>\n",
              "      <td>Match Report</td>\n",
              "      <td>NaN</td>\n",
              "      <td>25</td>\n",
              "      <td>9</td>\n",
              "      <td>16.8</td>\n",
              "      <td>1.0</td>\n",
              "      <td>0</td>\n",
              "      <td>1</td>\n",
              "    </tr>\n",
              "    <tr>\n",
              "      <th>2</th>\n",
              "      <td>2023-08-27</td>\n",
              "      <td>16:30</td>\n",
              "      <td>Premier League</td>\n",
              "      <td>Matchweek 3</td>\n",
              "      <td>Sun</td>\n",
              "      <td>Away</td>\n",
              "      <td>W</td>\n",
              "      <td>2.0</td>\n",
              "      <td>1.0</td>\n",
              "      <td>Newcastle Utd</td>\n",
              "      <td>...</td>\n",
              "      <td>4-3-3</td>\n",
              "      <td>John Brooks</td>\n",
              "      <td>Match Report</td>\n",
              "      <td>NaN</td>\n",
              "      <td>9</td>\n",
              "      <td>4</td>\n",
              "      <td>17.2</td>\n",
              "      <td>1.0</td>\n",
              "      <td>0</td>\n",
              "      <td>0</td>\n",
              "    </tr>\n",
              "    <tr>\n",
              "      <th>3</th>\n",
              "      <td>2023-09-03</td>\n",
              "      <td>14:00</td>\n",
              "      <td>Premier League</td>\n",
              "      <td>Matchweek 4</td>\n",
              "      <td>Sun</td>\n",
              "      <td>Home</td>\n",
              "      <td>W</td>\n",
              "      <td>3.0</td>\n",
              "      <td>0.0</td>\n",
              "      <td>Aston Villa</td>\n",
              "      <td>...</td>\n",
              "      <td>4-3-3</td>\n",
              "      <td>Simon Hooper</td>\n",
              "      <td>Match Report</td>\n",
              "      <td>NaN</td>\n",
              "      <td>17</td>\n",
              "      <td>4</td>\n",
              "      <td>14.7</td>\n",
              "      <td>0.0</td>\n",
              "      <td>0</td>\n",
              "      <td>0</td>\n",
              "    </tr>\n",
              "    <tr>\n",
              "      <th>4</th>\n",
              "      <td>2023-09-16</td>\n",
              "      <td>12:30</td>\n",
              "      <td>Premier League</td>\n",
              "      <td>Matchweek 5</td>\n",
              "      <td>Sat</td>\n",
              "      <td>Away</td>\n",
              "      <td>W</td>\n",
              "      <td>3.0</td>\n",
              "      <td>1.0</td>\n",
              "      <td>Wolves</td>\n",
              "      <td>...</td>\n",
              "      <td>4-3-3</td>\n",
              "      <td>Michael Oliver</td>\n",
              "      <td>Match Report</td>\n",
              "      <td>NaN</td>\n",
              "      <td>16</td>\n",
              "      <td>5</td>\n",
              "      <td>15.8</td>\n",
              "      <td>0.0</td>\n",
              "      <td>0</td>\n",
              "      <td>0</td>\n",
              "    </tr>\n",
              "  </tbody>\n",
              "</table>\n",
              "<p>5 rows × 25 columns</p>\n",
              "</div>\n",
              "    <div class=\"colab-df-buttons\">\n",
              "\n",
              "  <div class=\"colab-df-container\">\n",
              "    <button class=\"colab-df-convert\" onclick=\"convertToInteractive('df-2bb4be6f-e168-4fb1-bb5a-549cb85be0d0')\"\n",
              "            title=\"Convert this dataframe to an interactive table.\"\n",
              "            style=\"display:none;\">\n",
              "\n",
              "  <svg xmlns=\"http://www.w3.org/2000/svg\" height=\"24px\" viewBox=\"0 -960 960 960\">\n",
              "    <path d=\"M120-120v-720h720v720H120Zm60-500h600v-160H180v160Zm220 220h160v-160H400v160Zm0 220h160v-160H400v160ZM180-400h160v-160H180v160Zm440 0h160v-160H620v160ZM180-180h160v-160H180v160Zm440 0h160v-160H620v160Z\"/>\n",
              "  </svg>\n",
              "    </button>\n",
              "\n",
              "  <style>\n",
              "    .colab-df-container {\n",
              "      display:flex;\n",
              "      gap: 12px;\n",
              "    }\n",
              "\n",
              "    .colab-df-convert {\n",
              "      background-color: #E8F0FE;\n",
              "      border: none;\n",
              "      border-radius: 50%;\n",
              "      cursor: pointer;\n",
              "      display: none;\n",
              "      fill: #1967D2;\n",
              "      height: 32px;\n",
              "      padding: 0 0 0 0;\n",
              "      width: 32px;\n",
              "    }\n",
              "\n",
              "    .colab-df-convert:hover {\n",
              "      background-color: #E2EBFA;\n",
              "      box-shadow: 0px 1px 2px rgba(60, 64, 67, 0.3), 0px 1px 3px 1px rgba(60, 64, 67, 0.15);\n",
              "      fill: #174EA6;\n",
              "    }\n",
              "\n",
              "    .colab-df-buttons div {\n",
              "      margin-bottom: 4px;\n",
              "    }\n",
              "\n",
              "    [theme=dark] .colab-df-convert {\n",
              "      background-color: #3B4455;\n",
              "      fill: #D2E3FC;\n",
              "    }\n",
              "\n",
              "    [theme=dark] .colab-df-convert:hover {\n",
              "      background-color: #434B5C;\n",
              "      box-shadow: 0px 1px 3px 1px rgba(0, 0, 0, 0.15);\n",
              "      filter: drop-shadow(0px 1px 2px rgba(0, 0, 0, 0.3));\n",
              "      fill: #FFFFFF;\n",
              "    }\n",
              "  </style>\n",
              "\n",
              "    <script>\n",
              "      const buttonEl =\n",
              "        document.querySelector('#df-2bb4be6f-e168-4fb1-bb5a-549cb85be0d0 button.colab-df-convert');\n",
              "      buttonEl.style.display =\n",
              "        google.colab.kernel.accessAllowed ? 'block' : 'none';\n",
              "\n",
              "      async function convertToInteractive(key) {\n",
              "        const element = document.querySelector('#df-2bb4be6f-e168-4fb1-bb5a-549cb85be0d0');\n",
              "        const dataTable =\n",
              "          await google.colab.kernel.invokeFunction('convertToInteractive',\n",
              "                                                    [key], {});\n",
              "        if (!dataTable) return;\n",
              "\n",
              "        const docLinkHtml = 'Like what you see? Visit the ' +\n",
              "          '<a target=\"_blank\" href=https://colab.research.google.com/notebooks/data_table.ipynb>data table notebook</a>'\n",
              "          + ' to learn more about interactive tables.';\n",
              "        element.innerHTML = '';\n",
              "        dataTable['output_type'] = 'display_data';\n",
              "        await google.colab.output.renderOutput(dataTable, element);\n",
              "        const docLink = document.createElement('div');\n",
              "        docLink.innerHTML = docLinkHtml;\n",
              "        element.appendChild(docLink);\n",
              "      }\n",
              "    </script>\n",
              "  </div>\n",
              "\n",
              "\n",
              "<div id=\"df-4ce68fc6-b8cc-4f54-9bc3-86e72944b834\">\n",
              "  <button class=\"colab-df-quickchart\" onclick=\"quickchart('df-4ce68fc6-b8cc-4f54-9bc3-86e72944b834')\"\n",
              "            title=\"Suggest charts\"\n",
              "            style=\"display:none;\">\n",
              "\n",
              "<svg xmlns=\"http://www.w3.org/2000/svg\" height=\"24px\"viewBox=\"0 0 24 24\"\n",
              "     width=\"24px\">\n",
              "    <g>\n",
              "        <path d=\"M19 3H5c-1.1 0-2 .9-2 2v14c0 1.1.9 2 2 2h14c1.1 0 2-.9 2-2V5c0-1.1-.9-2-2-2zM9 17H7v-7h2v7zm4 0h-2V7h2v10zm4 0h-2v-4h2v4z\"/>\n",
              "    </g>\n",
              "</svg>\n",
              "  </button>\n",
              "\n",
              "<style>\n",
              "  .colab-df-quickchart {\n",
              "      --bg-color: #E8F0FE;\n",
              "      --fill-color: #1967D2;\n",
              "      --hover-bg-color: #E2EBFA;\n",
              "      --hover-fill-color: #174EA6;\n",
              "      --disabled-fill-color: #AAA;\n",
              "      --disabled-bg-color: #DDD;\n",
              "  }\n",
              "\n",
              "  [theme=dark] .colab-df-quickchart {\n",
              "      --bg-color: #3B4455;\n",
              "      --fill-color: #D2E3FC;\n",
              "      --hover-bg-color: #434B5C;\n",
              "      --hover-fill-color: #FFFFFF;\n",
              "      --disabled-bg-color: #3B4455;\n",
              "      --disabled-fill-color: #666;\n",
              "  }\n",
              "\n",
              "  .colab-df-quickchart {\n",
              "    background-color: var(--bg-color);\n",
              "    border: none;\n",
              "    border-radius: 50%;\n",
              "    cursor: pointer;\n",
              "    display: none;\n",
              "    fill: var(--fill-color);\n",
              "    height: 32px;\n",
              "    padding: 0;\n",
              "    width: 32px;\n",
              "  }\n",
              "\n",
              "  .colab-df-quickchart:hover {\n",
              "    background-color: var(--hover-bg-color);\n",
              "    box-shadow: 0 1px 2px rgba(60, 64, 67, 0.3), 0 1px 3px 1px rgba(60, 64, 67, 0.15);\n",
              "    fill: var(--button-hover-fill-color);\n",
              "  }\n",
              "\n",
              "  .colab-df-quickchart-complete:disabled,\n",
              "  .colab-df-quickchart-complete:disabled:hover {\n",
              "    background-color: var(--disabled-bg-color);\n",
              "    fill: var(--disabled-fill-color);\n",
              "    box-shadow: none;\n",
              "  }\n",
              "\n",
              "  .colab-df-spinner {\n",
              "    border: 2px solid var(--fill-color);\n",
              "    border-color: transparent;\n",
              "    border-bottom-color: var(--fill-color);\n",
              "    animation:\n",
              "      spin 1s steps(1) infinite;\n",
              "  }\n",
              "\n",
              "  @keyframes spin {\n",
              "    0% {\n",
              "      border-color: transparent;\n",
              "      border-bottom-color: var(--fill-color);\n",
              "      border-left-color: var(--fill-color);\n",
              "    }\n",
              "    20% {\n",
              "      border-color: transparent;\n",
              "      border-left-color: var(--fill-color);\n",
              "      border-top-color: var(--fill-color);\n",
              "    }\n",
              "    30% {\n",
              "      border-color: transparent;\n",
              "      border-left-color: var(--fill-color);\n",
              "      border-top-color: var(--fill-color);\n",
              "      border-right-color: var(--fill-color);\n",
              "    }\n",
              "    40% {\n",
              "      border-color: transparent;\n",
              "      border-right-color: var(--fill-color);\n",
              "      border-top-color: var(--fill-color);\n",
              "    }\n",
              "    60% {\n",
              "      border-color: transparent;\n",
              "      border-right-color: var(--fill-color);\n",
              "    }\n",
              "    80% {\n",
              "      border-color: transparent;\n",
              "      border-right-color: var(--fill-color);\n",
              "      border-bottom-color: var(--fill-color);\n",
              "    }\n",
              "    90% {\n",
              "      border-color: transparent;\n",
              "      border-bottom-color: var(--fill-color);\n",
              "    }\n",
              "  }\n",
              "</style>\n",
              "\n",
              "  <script>\n",
              "    async function quickchart(key) {\n",
              "      const quickchartButtonEl =\n",
              "        document.querySelector('#' + key + ' button');\n",
              "      quickchartButtonEl.disabled = true;  // To prevent multiple clicks.\n",
              "      quickchartButtonEl.classList.add('colab-df-spinner');\n",
              "      try {\n",
              "        const charts = await google.colab.kernel.invokeFunction(\n",
              "            'suggestCharts', [key], {});\n",
              "      } catch (error) {\n",
              "        console.error('Error during call to suggestCharts:', error);\n",
              "      }\n",
              "      quickchartButtonEl.classList.remove('colab-df-spinner');\n",
              "      quickchartButtonEl.classList.add('colab-df-quickchart-complete');\n",
              "    }\n",
              "    (() => {\n",
              "      let quickchartButtonEl =\n",
              "        document.querySelector('#df-4ce68fc6-b8cc-4f54-9bc3-86e72944b834 button');\n",
              "      quickchartButtonEl.style.display =\n",
              "        google.colab.kernel.accessAllowed ? 'block' : 'none';\n",
              "    })();\n",
              "  </script>\n",
              "</div>\n",
              "\n",
              "    </div>\n",
              "  </div>\n"
            ],
            "application/vnd.google.colaboratory.intrinsic+json": {
              "type": "dataframe",
              "variable_name": "first_team_frame"
            }
          },
          "metadata": {},
          "execution_count": 288
        }
      ]
    },
    {
      "cell_type": "markdown",
      "source": [
        "This just added additional columns in the end of the frame"
      ],
      "metadata": {
        "id": "ASxpaPDPonJq"
      }
    },
    {
      "cell_type": "code",
      "source": [
        "matches_first_team.shape"
      ],
      "metadata": {
        "id": "YOHmWuOdnZ1A",
        "colab": {
          "base_uri": "https://localhost:8080/"
        },
        "outputId": "15dc8c6a-01c2-4717-c660-9594e31c9980"
      },
      "execution_count": 289,
      "outputs": [
        {
          "output_type": "execute_result",
          "data": {
            "text/plain": [
              "(56, 19)"
            ]
          },
          "metadata": {},
          "execution_count": 289
        }
      ]
    },
    {
      "cell_type": "code",
      "source": [
        "first_team_shooting_frame.shape"
      ],
      "metadata": {
        "id": "MKrG4_-Ho6ap",
        "colab": {
          "base_uri": "https://localhost:8080/"
        },
        "outputId": "d2d69e88-1e43-4a44-d7a7-8530745c5a1b"
      },
      "execution_count": 290,
      "outputs": [
        {
          "output_type": "execute_result",
          "data": {
            "text/plain": [
              "(44, 26)"
            ]
          },
          "metadata": {},
          "execution_count": 290
        }
      ]
    },
    {
      "cell_type": "markdown",
      "source": [
        "### Now we should scrape the data for multiple seasons and for all of the teams existed in the English Premier League"
      ],
      "metadata": {
        "id": "KwM-RYPipmOg"
      }
    },
    {
      "cell_type": "code",
      "source": [
        "years = list(range(2024, 2021, -1))\n",
        "years"
      ],
      "metadata": {
        "id": "A7GjLTgwo9J0",
        "colab": {
          "base_uri": "https://localhost:8080/"
        },
        "outputId": "251a2be9-3123-4f25-d90a-e8e11f44ded6"
      },
      "execution_count": 291,
      "outputs": [
        {
          "output_type": "execute_result",
          "data": {
            "text/plain": [
              "[2024, 2023, 2022]"
            ]
          },
          "metadata": {},
          "execution_count": 291
        }
      ]
    },
    {
      "cell_type": "code",
      "source": [
        "# several DataFrames and each DataFrame contains the match log for a team\n",
        "all_matches = []"
      ],
      "metadata": {
        "id": "jmQH-TZpqRPM"
      },
      "execution_count": 292,
      "outputs": []
    },
    {
      "cell_type": "code",
      "source": [
        "for year in years:\n",
        "  # get the links to the teams through the table.stats_table\n",
        "  data = requests.get(standings_url)\n",
        "  soup = BeautifulSoup(data.text)\n",
        "  table = soup.select(\"table.stats_table\")[0]\n",
        "  links = standings_table.find_all(\"a\")\n",
        "  links = [l.get(\"href\") for l in links]\n",
        "  links = [l for l in links if \"/squads/\" in l]\n",
        "\n",
        "  previous_season = soup.select(\"a.prev\")[0].get(\"href\")\n",
        "  standings_url = f\"https://fbref.com{previous_season}\"\n",
        "\n",
        "  team_urls = [f\"https://fbref.com{l}\" for l in links]\n",
        "  for team in team_urls:\n",
        "    team_name = team.split(\"/\")[-1].replace(\"-Stats\", \"\").replace(\"-\", \" \")\n",
        "    data = requests.get(team)\n",
        "    # read the table that has the Scores and Fixtures\n",
        "    matches = pd.read_html(data.text, match=\"Scores & Fixtures\")[0]\n",
        "    # get the link to the scoring data\n",
        "    soup = BeautifulSoup(data.text)\n",
        "    links = [l.get(\"href\") for l in soup.find_all('a')]\n",
        "    links = [l for l in links if l and \"all_comps/shooting/\" in l]\n",
        "    data = requests.get(f\"https://fbref.com{links[0]}\")\n",
        "    shooting = pd.read_html(data.text, match='Shooting')[0]\n",
        "    shooting.columns = shooting.columns.droplevel()\n",
        "\n",
        "    try:\n",
        "      team_data = matches.merge(shooting[[\"Date\", \"Sh\", \"SoT\", \"Dist\", \"FK\", \"PK\", \"PKatt\"]], on=\"Date\")\n",
        "    # for some teams the shooting table is not available\n",
        "    except ValueError:\n",
        "      continue\n",
        "\n",
        "    # filter by competition and add column indicating years and team names\n",
        "    team_data = team_data[team_data[\"Comp\"] == \"Premier League\"]\n",
        "    team_data[\"Season\"] = year\n",
        "    team_data[\"Team\"] = team_name\n",
        "    all_matches.append(team_data)\n",
        "    time.sleep(3)\n",
        "\n",
        "\n"
      ],
      "metadata": {
        "id": "AHgFShRzrNeO",
        "colab": {
          "base_uri": "https://localhost:8080/"
        },
        "outputId": "f42abff8-beda-41a7-b045-41943c0a6525"
      },
      "execution_count": 293,
      "outputs": [
        {
          "output_type": "stream",
          "name": "stderr",
          "text": [
            "<ipython-input-293-c76341214c27>:35: SettingWithCopyWarning: \n",
            "A value is trying to be set on a copy of a slice from a DataFrame.\n",
            "Try using .loc[row_indexer,col_indexer] = value instead\n",
            "\n",
            "See the caveats in the documentation: https://pandas.pydata.org/pandas-docs/stable/user_guide/indexing.html#returning-a-view-versus-a-copy\n",
            "  team_data[\"Season\"] = year\n",
            "<ipython-input-293-c76341214c27>:36: SettingWithCopyWarning: \n",
            "A value is trying to be set on a copy of a slice from a DataFrame.\n",
            "Try using .loc[row_indexer,col_indexer] = value instead\n",
            "\n",
            "See the caveats in the documentation: https://pandas.pydata.org/pandas-docs/stable/user_guide/indexing.html#returning-a-view-versus-a-copy\n",
            "  team_data[\"Team\"] = team_name\n"
          ]
        }
      ]
    },
    {
      "cell_type": "code",
      "source": [
        "match_df = pd.concat(all_matches)\n",
        "match_df.columns = [c.lower() for c in match_df.columns]"
      ],
      "metadata": {
        "id": "0_Cpxk1zsxzt"
      },
      "execution_count": 294,
      "outputs": []
    },
    {
      "cell_type": "code",
      "source": [
        "match_df.to_csv(\"matches.csv\")"
      ],
      "metadata": {
        "id": "CfOVA-WkzZz8"
      },
      "execution_count": 295,
      "outputs": []
    }
  ]
}